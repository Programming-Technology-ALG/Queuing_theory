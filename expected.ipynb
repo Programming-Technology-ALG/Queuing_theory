{
 "cells": [
  {
   "cell_type": "code",
   "execution_count": null,
   "metadata": {},
   "outputs": [],
   "source": [
    "def expected(l, m, n):\n",
    "    r = l/m\n",
    "    esc_pr = r**2/(1-r)\n",
    "    #L_ob = 1-p0\n",
    "    #L_och = (r**2)*(1-(r**n)*(n+1-n*r))/(1-r**(n+2))/(1-r)\n",
    "    #absolut = l*(1-r**(n+1)*p0)\n",
    "\n",
    "    exp_avg_total_time = 1/(m-l)\n",
    "    exp_lost_customers_prob = esc_pr*r**(n+1)\n",
    "    exp_waiting_customers_prob = l/l+m\n",
    "    exp_avg_num_in_q = esc_pr\n",
    "    exp_wasted_time_prob = (1-r)/(1-r**(n+2))\n",
    "\n",
    "    print(\"Среднее время пребывания в системе\",exp_avg_total_time)\n",
    "    print(\"Вероятность ухода посетителя\",exp_lost_customers_prob)\n",
    "    print(\"Вероятность ожидания\",exp_waiting_customers_prob)\n",
    "    print(\"Среднее количество людей в очереди\",exp_avg_num_in_q)\n",
    "    print(\"Вероятность простоя системы\",exp_wasted_time_prob)"
   ]
  }
 ],
 "metadata": {
  "language_info": {
   "name": "python"
  },
  "orig_nbformat": 4
 },
 "nbformat": 4,
 "nbformat_minor": 2
}
